{
 "cells": [
  {
   "cell_type": "markdown",
   "metadata": {
    "id": "TbJPybzyEIn9"
   },
   "source": [
    "# Tutorial 6: Training quantum variational circuits in PennyLane\n",
    "\n",
    "PSI 2023-2024\n",
    "\n",
    "Machine Learning for Many-Body Physics\n",
    "\n",
    "By Damian Pope, PhD."
   ]
  },
  {
   "cell_type": "markdown",
   "metadata": {
    "id": "uZyZBFfj2n5w"
   },
   "source": [
    "**1.** Look through the sample code for VQE tied to the example from the lecture. The code is located [HERE](Code_from_Lecture/VQE_example.ipynb#section_id3). Identify which line each of the six steps of VQE mentioned in the lecture occur at.\n",
    "\n"
   ]
  },
  {
   "cell_type": "markdown",
   "metadata": {
    "id": "Zo8lRsPEuDdY"
   },
   "source": [
    "<BF>ANSWER</BF> <BR>\n",
    "STEP 1 Parameterize states: **(Line 14 of first code cell---not including the \"!pip install pennylane\" cell)**: qml.RY(theta, wires=0)<BR>\n",
    "STEP 2 Make an educated guess of what the answer is (ansatz): **Line 2 of second code cell**: theta = np.array([np.pi/2],requires_grad=True) <BR>\n",
    "STEP 3 Calculate energy of quantum state for the initial guess: **Line 8 of third code cell**: store_energy=[energy(theta)] <BR>\n",
    "STEP 4 Calculate a better guess: **Line 12 of third code cell:** theta = optimizer.step(energy,theta)<BR>\n",
    "STEP 5 Calculate the energy of the better guess **Line 15 of third code cell** store_energy.append(energy(theta))<BR>\n",
    "STEP 6 Repeat steps 5 & 6 until the energy stops changing: **Lines 23 to 35 of third code cell** <br> if conv <= tol: <br>\n",
    "       print(\"total number of steps=\",steps) <br>\n",
    "       break<BR>\n"
   ]
  },
  {
   "cell_type": "markdown",
   "metadata": {
    "id": "LlHa1iBJ28hD"
   },
   "source": [
    "**2.** Two important aspects of quantum machine learning are:<br>\n",
    "i. your initial guess for the ground state of the system. Often, this is called the \"ansatz\".<br>\n",
    "ii. how rapidly you change the machine learning parameters. This is called the <i>learning rate</i>.\n",
    "\n",
    "Play around with these two factors by changing i) the initial value of theta and ii) the stepsize parameter and see how this affects the behaviour of the VQE algorithm."
   ]
  },
  {
   "cell_type": "markdown",
   "metadata": {
    "id": "nqA7IDETwXLQ"
   },
   "source": [
    "ANSWER\n",
    "i. As you make the initial value of theta closer to pi, your initial guess is better. So, the algorithm performs better & converges on the correct result more quickly. As you move theta closer to 0, the algorithm performs worse.\n",
    "\n",
    "ii. If you make the learning rate very small (e.g., stepsize = 0.01, the algorithm take longer to converge on the correct result. However, if you make the learning rate too large, you can overshoot the correct result. So, there's a balance and an ideal learning rate. Figuring out what it is, is a nontrivial exercise in general, but an important one."
   ]
  },
  {
   "cell_type": "markdown",
   "metadata": {
    "id": "1uOC4iKk33xJ"
   },
   "source": [
    "**3.** In condensed matter physics, we can use VQE to find the ground state of the 1D quantum Ising model.\n",
    "\n",
    "Run the code [HERE](Code_from_Lecture/VQE_Quantum_Ising_model.ipynb#quantum_Ising_file). What does VQE give for the ground-state energy? Does this seems reasonable? Why or why not?"
   ]
  },
  {
   "cell_type": "markdown",
   "metadata": {
    "id": "NZv5Xxh_xPFe"
   },
   "source": [
    "ANSWER:\n",
    "VQE gives an answer of 2 for the ground state energy.\n",
    "\n",
    "This is reasonable as the ground state corresponds to all the qubits being in the same basis state. That is, either all being |0> or all being |1>. If they're all in the |1> state, then the energy from the interaction between the 1st & 2nd qubits is E = -(-1) (-1) = -1. The energy from the interaction between the 2nd & third qubits is the same. So, the total energy of the ground state is -1 + (-1) = -2. So, the result that VQE gives is reasonable. (Note, we have really worried about the units of energy here.)"
   ]
  },
  {
   "cell_type": "markdown",
   "metadata": {
    "id": "GtW5Wbhw4gqz"
   },
   "source": [
    "**4.** One observable that condensed matter physicists are interested in is the magnetiziation of a system. It's given by $$M = \\left| \\frac{1}{N} \\Sigma_i Z_i \\right| $$\n",
    "\n",
    "Uncomment the magnetization code in the last cell of the notebook provided in Q3 and run it. What's the value of the magnetization of the ground state?"
   ]
  },
  {
   "cell_type": "markdown",
   "metadata": {
    "id": "NIol2jsCzKNA"
   },
   "source": [
    "ANSWER: 0.12354242287474348"
   ]
  },
  {
   "cell_type": "markdown",
   "metadata": {
    "id": "017_XNRcWrcp"
   },
   "source": [
    "**5.** Like many other ML algorithms, VQE is <i>not</i> guaranteed to find the ground state. On the notebook provided in Q3, change the seed number \"7\" to \"4\". i.e., change it to: <br> np.random.seed(4)\n",
    "\n",
    "What does value does VQE give for the ground state now? Is there something wrong with the algorithm?"
   ]
  },
  {
   "cell_type": "markdown",
   "metadata": {
    "id": "DnZLjSVYzNlZ"
   },
   "source": [
    "ANSWER:\n",
    "It probably got stuck in a local minimum. In general, this is something that can happen in ML. You should be aware of this possibility. You can mitigate against it by either:\n",
    "1) checking if the answer make sense or\n",
    "2) using a different optimization technique. E.g., stochastic gradient descent."
   ]
  },
  {
   "cell_type": "markdown",
   "metadata": {
    "id": "tW4TzqGpXYMR"
   },
   "source": [
    "**6.** A version of the Ising model that condensed matter physicists are interested is when we have a magnetic field directed along the x axis. This model is called the <i>transverse Ising model</i>. In the code, change the value of $h_x$ to 10. What ground state does VQE give now? Does this result seem reasonable?"
   ]
  },
  {
   "cell_type": "markdown",
   "metadata": {
    "id": "Elgya6Cn0XV9"
   },
   "source": [
    "ANSWER: -28.8866\n",
    "\n",
    "It isn't unreasonable as if all the qubits are in the state |+> = |0> + |1>, then the the energy associated with the tranverse B field is -30.\n",
    "\n",
    "-28.8866 is close to -30.\n",
    "\n",
    "The difference between the two values comes about from the fact that the ground state is not exactly having all the qubits in the state |+> as there's an energy \"cost\" to this state due to the Z-Z interaction term between qubits."
   ]
  },
  {
   "cell_type": "markdown",
   "metadata": {
    "id": "MXr-Qy9Z3qMl"
   },
   "source": [
    "**7.** One of the most popular applications of VQE is the finding the ground state of molecules. Run the code [HERE](Code_from_Lecture/VQE_Quantum_Ground_State_Hydrogen_molecule.ipynb#VQE_H2) to see it applied to finding the ground state of the H<sub>2</sub> hydrogen molecule. Play around with the stepsize parameter and the initial guess for the ground state to see how they affect the algorithm's behaviour."
   ]
  },
  {
   "cell_type": "markdown",
   "metadata": {
    "id": "wU6Mmgza1QB-"
   },
   "source": [
    "ANSWER:\n",
    "There's no real right or wrong answer to this questions. Students will discover different things as they change the parameters."
   ]
  },
  {
   "cell_type": "markdown",
   "metadata": {
    "id": "4vx-g8H1200Y"
   },
   "source": [
    "**8.** Look through the sample code for QAOA [HERE](Classical_Ising_Model_QAOA_example.ipynb#classical_Ising_QAOA_example). Identify which line each of the seven steps in QAOA mentioned in the lecture occur at."
   ]
  },
  {
   "cell_type": "markdown",
   "metadata": {
    "id": "z7A711JL1mJe"
   },
   "source": [
    "ANSWER\n",
    "1. Initialize state: Lines 18 to 20 of the second code cell---not including the \"!pip install pennylane\" cell.\n",
    "2. Repeat H_s and H_Ising multiple times: Line 23 of second code cell (or line 2 of fourth code cell)\n",
    "3. Measure qubits in computational basis: Line 4 of fifth code cell\n",
    "4. Repeat 3. a number of times: Line 4 of fith code cell\n",
    "5. Calculate the smallest value of H in the sample: Not done in the code.\n",
    "6. Classically optimize: Line 2 of fourth code cell\n",
    "7. Repeat steps 1 to 6: Lines 1 and 2 of fourth code cell."
   ]
  },
  {
   "cell_type": "markdown",
   "metadata": {
    "id": "tczCdaKr5WqJ"
   },
   "source": [
    "**9.** Run the code [HERE](Classical_Ising_Model_QAOA_example.ipynb#classical_Ising_QAOA_example) and find the ground state of the N = 3 classical Ising model using QAOA.\n",
    "\n",
    "According to the QAOA code, what is the ground state? What is the ground state energy?\n",
    "\n",
    "Play around with the value of <i>P</i> and the number of classical optimization iterations by varying them. Check how they affect the success of the algorithm.\n",
    "\n"
   ]
  },
  {
   "cell_type": "markdown",
   "metadata": {
    "id": "ixWn95n83d4K"
   },
   "source": [
    "ANSWER: QAOA give that the ground state is 000.\n",
    "\n",
    "This corresponds to the energy: -(+1) (+1) - (+1) (+1) - 1 - 1 + 1 = -3\n",
    "\n",
    "In general, when you increase either P or the number of iterations, the algorithm will perform better."
   ]
  },
  {
   "cell_type": "markdown",
   "metadata": {
    "id": "vk4ADgA5VuW-"
   },
   "source": [
    "<b>10. Optional (Open-ended) - Choose one of the following.</b>\n",
    "\n",
    "<b>A.</b> Expore the 1D quantum Ising model by changing the value of J, the nearest neighbour coupling constant. How does the magnetization of the ground state change as you vary J between -1 and +1?\n",
    "\n",
    "In the vicinity of J = 0, there's a quantum phase change between all the qubits/spins wanting to be in the same state and them wanting to be in the opposite state to their two nearest neighbours.\n",
    "\n",
    "<b>B.</b> Some cosmologists are interested in studying the quantum Ising model with a i) transverse magnetic field ($h_x$ is nonzero) and a ii) longitudinal field ($h_z$ is nonzero). They're interested in it to help model the cosmological phenomena of false vacuum decay.\n",
    "\n",
    "Make $h_z$ and $h_x$ nonzero, play around with various values of them. How does this affects the ground-state energy?\n",
    "\n",
    "<b>C.</b> Find the ground-state of the H<sub>3</sub><sup>+</sup> molecule using VQE. Use the instructions and existing code [HERE](https://github.com/quantotto/qhack2024/tree/main/TensorTundra/400_triple_h). (This was one of the problems in [QHack 2024](https://qhack.ai/online-events/#coding-challenges).)"
   ]
  },
  {
   "cell_type": "markdown",
   "metadata": {
    "id": "JJzHTDuQ4uJE"
   },
   "source": [
    "ANSWERS:\n",
    "There are no real answers to A or B.\n",
    "\n",
    "The answer to C is in the cell below:\n",
    "(Note that students only need to add a few of the lines of code as most are already in the code template.)\n",
    "\n"
   ]
  },
  {
   "cell_type": "code",
   "execution_count": 1,
   "metadata": {
    "colab": {
     "base_uri": "https://localhost:8080/"
    },
    "executionInfo": {
     "elapsed": 18215,
     "status": "ok",
     "timestamp": 1714418702847,
     "user": {
      "displayName": "Damian Pope",
      "userId": "01798205623999937425"
     },
     "user_tz": 240
    },
    "id": "FSoQ4S74UNPj",
    "outputId": "8edea181-327e-4bfb-cef8-70bcf1722e73"
   },
   "outputs": [
    {
     "name": "stdout",
     "output_type": "stream",
     "text": [
      "Defaulting to user installation because normal site-packages is not writeable\n",
      "Requirement already satisfied: pennylane in c:\\users\\dpope\\appdata\\roaming\\python\\python39\\site-packages (0.36.0)\n",
      "Requirement already satisfied: numpy<2.0 in c:\\users\\dpope\\appdata\\roaming\\python\\python39\\site-packages (from pennylane) (1.26.4)\n",
      "Requirement already satisfied: autograd in c:\\users\\dpope\\appdata\\roaming\\python\\python39\\site-packages (from pennylane) (1.4)\n",
      "Requirement already satisfied: scipy in c:\\users\\dpope\\appdata\\roaming\\python\\python39\\site-packages (from pennylane) (1.13.0)\n",
      "Requirement already satisfied: networkx in c:\\users\\dpope\\appdata\\roaming\\python\\python39\\site-packages (from pennylane) (3.1)\n",
      "Requirement already satisfied: toml in c:\\programdata\\anaconda3\\lib\\site-packages (from pennylane) (0.10.2)\n",
      "Requirement already satisfied: requests in c:\\users\\dpope\\appdata\\roaming\\python\\python39\\site-packages (from pennylane) (2.31.0)\n",
      "Requirement already satisfied: typing-extensions in c:\\users\\dpope\\appdata\\roaming\\python\\python39\\site-packages (from pennylane) (4.4.0)\n",
      "Requirement already satisfied: appdirs in c:\\programdata\\anaconda3\\lib\\site-packages (from pennylane) (1.4.4)\n",
      "Requirement already satisfied: cachetools in c:\\programdata\\anaconda3\\lib\\site-packages (from pennylane) (4.2.2)\n",
      "Requirement already satisfied: autoray>=0.6.1 in c:\\users\\dpope\\appdata\\roaming\\python\\python39\\site-packages (from pennylane) (0.6.3)\n",
      "Requirement already satisfied: pennylane-lightning>=0.36 in c:\\users\\dpope\\appdata\\roaming\\python\\python39\\site-packages (from pennylane) (0.36.0)\n",
      "Requirement already satisfied: semantic-version>=2.7 in c:\\users\\dpope\\appdata\\roaming\\python\\python39\\site-packages (from pennylane) (2.10.0)\n",
      "Requirement already satisfied: rustworkx in c:\\users\\dpope\\appdata\\roaming\\python\\python39\\site-packages (from pennylane) (0.13.2)\n",
      "Requirement already satisfied: future>=0.15.2 in c:\\programdata\\anaconda3\\lib\\site-packages (from autograd->pennylane) (0.18.2)\n",
      "Requirement already satisfied: idna<4,>=2.5 in c:\\programdata\\anaconda3\\lib\\site-packages (from requests->pennylane) (3.3)\n",
      "Requirement already satisfied: certifi>=2017.4.17 in c:\\programdata\\anaconda3\\lib\\site-packages (from requests->pennylane) (2021.10.8)\n",
      "Requirement already satisfied: charset-normalizer<4,>=2 in c:\\programdata\\anaconda3\\lib\\site-packages (from requests->pennylane) (2.0.4)\n",
      "Requirement already satisfied: urllib3<3,>=1.21.1 in c:\\users\\dpope\\appdata\\roaming\\python\\python39\\site-packages (from requests->pennylane) (2.1.0)\n"
     ]
    }
   ],
   "source": [
    "!pip install pennylane"
   ]
  },
  {
   "cell_type": "code",
   "execution_count": 2,
   "metadata": {
    "colab": {
     "base_uri": "https://localhost:8080/"
    },
    "executionInfo": {
     "elapsed": 15669,
     "status": "ok",
     "timestamp": 1714418722452,
     "user": {
      "displayName": "Damian Pope",
      "userId": "01798205623999937425"
     },
     "user_tz": 240
    },
    "id": "QXoeyDWcRvMC",
    "outputId": "415be7c1-767d-43b4-87aa-e02354bc83c9"
   },
   "outputs": [
    {
     "name": "stdout",
     "output_type": "stream",
     "text": [
      "Running test case 0 with input '1.5'...\n",
      "--- Step: 0, Energy: -1.22373792\n",
      "Step = 0,  Energy = -1.22373792 Ha\n",
      "--- Step: 1, Energy: -1.22910874\n",
      "--- Step: 2, Energy: -1.23121801\n",
      "--- Step: 3, Energy: -1.23204381\n",
      "--- Step: 4, Energy: -1.23236688\n",
      "--- Step: 5, Energy: -1.23249326\n",
      "--- Step: 6, Energy: -1.23254272\n",
      "--- Step: 7, Energy: -1.23256207\n",
      "--- Step: 8, Energy: -1.23256964\n",
      "Correct!\n",
      "Running test case 1 with input '0.8'...\n",
      "--- Step: 0, Energy: -0.37474085\n",
      "Step = 0,  Energy = -0.37474085 Ha\n",
      "--- Step: 1, Energy: -0.37667849\n",
      "--- Step: 2, Energy: -0.37697796\n",
      "--- Step: 3, Energy: -0.37702422\n",
      "--- Step: 4, Energy: -0.37703137\n",
      "Correct!\n"
     ]
    }
   ],
   "source": [
    "# -*- coding: utf-8 -*-\n",
    "\"\"\"\n",
    "Created on Fri Feb 16 14:13:40 2024\n",
    "\n",
    "@author: dpope\n",
    "\"\"\"\n",
    "\n",
    "import json\n",
    "import pennylane as qml\n",
    "import pennylane.numpy as np\n",
    "\n",
    "symbols = [\"H\", \"H\", \"H\"]\n",
    "\n",
    "\n",
    "def h3_ground_energy(bond_length):\n",
    "\n",
    "    \"\"\"\n",
    "    Uses VQE to calculate the ground energy of the H3+ molecule with the given bond length.\n",
    "\n",
    "    Args:\n",
    "        - bond_length(float): The bond length of the H3+ molecule modelled as an\n",
    "        equilateral triangle.\n",
    "    Returns:\n",
    "        - Union[float, np.tensor, np.array]: A float-like output containing the ground\n",
    "        state of the H3+ molecule with the given bond length.\n",
    "    \"\"\"\n",
    "\n",
    "\n",
    "\n",
    "\n",
    "\n",
    "\n",
    "\n",
    "    #***Start of code that students need to add to solve the problem***\n",
    "    coordinates = np.array([0.0, 0.0, 0.0, 0.5*bond_length, -bond_length*(3**(0.5)/2), 0.0, -0.5*bond_length,-bond_length*(3**(0.5)/2) , 0.0])\n",
    "\n",
    "\n",
    "    # Building the molecular hamiltonian for the trihydrogen cation\n",
    "    hamiltonian, qubits = qml.qchem.molecular_hamiltonian(symbols, coordinates, charge=1)\n",
    "\n",
    "    #print(\"hamiltonian=\",hamiltonian)\n",
    "    #print(\"qubits=\",qubits)\n",
    "\n",
    "    # The Hartree-Fock State\n",
    "    hf = qml.qchem.hf_state(electrons=2, orbitals=6)\n",
    "\n",
    "\n",
    "    dev = qml.device(\"default.qubit\", wires=qubits)\n",
    "\n",
    "\n",
    "\n",
    "\n",
    "\n",
    "    @qml.qnode(dev)\n",
    "    def cost_func(params):\n",
    "        qml.BasisState(hf, wires=range(qubits))\n",
    "        qml.DoubleExcitation(params[0], wires=[0, 1, 2, 3])\n",
    "        qml.DoubleExcitation(params[1], wires=[0, 1, 4, 5])\n",
    "        return qml.expval(hamiltonian)\n",
    "\n",
    "\n",
    "    params=[0.0,0.0]\n",
    "\n",
    "    def workflow(params, ntrials):\n",
    "        opt = qml.GradientDescentOptimizer(stepsize=0.4)\n",
    "\n",
    "        prev_energy = 1.0\n",
    "        current_energy = 0.0\n",
    "\n",
    "\n",
    "        for n in range(ntrials):\n",
    "            params, prev_energy = opt.step_and_cost(cost_func, params)\n",
    "            print(f\"--- Step: {n}, Energy: {cost_func(params):.8f}\")\n",
    "\n",
    "            current_energy = cost_func(params)\n",
    "\n",
    "\n",
    "\n",
    "\n",
    "            if n % 10 == 0:\n",
    "                print(f\"Step = {n},  Energy = {current_energy:.8f} Ha\")\n",
    "\n",
    "            if abs(current_energy-prev_energy) <= 0.00001:\n",
    "                break\n",
    "\n",
    "\n",
    "        return current_energy\n",
    "\n",
    "\n",
    "\n",
    "    final_energy = workflow(np.array([0.0, 0.0]), 1000)\n",
    "\n",
    "\n",
    "\n",
    "    #\n",
    "    #I just need to get the hamiltonian and the number of qubits\n",
    "    #\n",
    "    return final_energy\n",
    "\n",
    "     ###***END OF CODE BLOCK THAT STUDENTS NEED TO ADD\n",
    "\n",
    "\n",
    "# These functions are responsible for testing the solution.\n",
    "\n",
    "def run(test_case_input: str) -> str:\n",
    "    ins = json.loads(test_case_input)\n",
    "    outs = h3_ground_energy(ins)\n",
    "    return str(outs)\n",
    "\n",
    "\n",
    "def check(solution_output: str, expected_output: str) -> None:\n",
    "    solution_output = json.loads(solution_output)\n",
    "    expected_output = json.loads(expected_output)\n",
    "    assert np.allclose(solution_output,expected_output, atol = 1e-4), \"Not the correct ground energy\"\n",
    "\n",
    "\n",
    "# These are the public test cases\n",
    "test_cases = [\n",
    "    ('1.5', '-1.232574'),\n",
    "    ('0.8', '-0.3770325')\n",
    "]\n",
    "\n",
    "# This will run the public test cases locally\n",
    "for i, (input_, expected_output) in enumerate(test_cases):\n",
    "    print(f\"Running test case {i} with input '{input_}'...\")\n",
    "\n",
    "    try:\n",
    "        output = run(input_)\n",
    "\n",
    "    except Exception as exc:\n",
    "        print(f\"Runtime Error. {exc}\")\n",
    "\n",
    "    else:\n",
    "        if message := check(output, expected_output):\n",
    "            print(f\"Wrong Answer. Have: '{output}'. Want: '{expected_output}'.\")\n",
    "\n",
    "        else:\n",
    "            print(\"Correct!\")"
   ]
  }
 ],
 "metadata": {
  "colab": {
   "provenance": [
    {
     "file_id": "1oN2x_Ixrv0dMdyAQ5qd5QCWIYMQ_duqI",
     "timestamp": 1714408436960
    }
   ]
  },
  "kernelspec": {
   "display_name": "Python 3 (ipykernel)",
   "language": "python",
   "name": "python3"
  },
  "language_info": {
   "codemirror_mode": {
    "name": "ipython",
    "version": 3
   },
   "file_extension": ".py",
   "mimetype": "text/x-python",
   "name": "python",
   "nbconvert_exporter": "python",
   "pygments_lexer": "ipython3",
   "version": "3.9.12"
  }
 },
 "nbformat": 4,
 "nbformat_minor": 1
}
