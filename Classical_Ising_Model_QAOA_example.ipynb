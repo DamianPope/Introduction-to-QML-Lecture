{
 "cells": [
  {
   "cell_type": "markdown",
   "metadata": {
    "id": "PM-ECwTVYWaO"
   },
   "source": [
    "<a id='classical_Ising_QAOA_example'></a>\n",
    "**Toy example of QAOA**\n",
    "\n",
    "A simple example of QAOA for the 1D classical Ising model.\n",
    "We consider the case of three spins (N = 3) with local magnetic fields (h<sub>i</sub>)\n",
    "\n",
    "The Hamiltonian has the form <br>\n",
    "$$ H = -z_1 z_2 - z_2 z_3 + h_1 + h_2 + h_3 $$\n",
    "\n",
    "Adapted from https://pennylane.ai/qml/demos/tutorial_qaoa_intro/\n",
    "\n",
    "----------\n",
    "\n",
    "By Damian Pope, PhD\n",
    "\n",
    "<i>Introduction to Quantum  Machine Learning</i> lecture\n",
    "\n",
    "\n"
   ]
  },
  {
   "cell_type": "code",
   "execution_count": 1,
   "metadata": {
    "colab": {
     "base_uri": "https://localhost:8080/"
    },
    "executionInfo": {
     "elapsed": 29794,
     "status": "ok",
     "timestamp": 1714411194669,
     "user": {
      "displayName": "Damian Pope",
      "userId": "01798205623999937425"
     },
     "user_tz": 240
    },
    "id": "35EhPtTJcDmY",
    "outputId": "d81baf90-db75-406e-c14c-89adff83a6a9"
   },
   "outputs": [
    {
     "name": "stdout",
     "output_type": "stream",
     "text": [
      "Defaulting to user installation because normal site-packages is not writeable\n",
      "Requirement already satisfied: pennylane in c:\\users\\dpope\\appdata\\roaming\\python\\python39\\site-packages (0.36.0)\n",
      "Requirement already satisfied: rustworkx in c:\\users\\dpope\\appdata\\roaming\\python\\python39\\site-packages (from pennylane) (0.13.2)\n",
      "Requirement already satisfied: scipy in c:\\users\\dpope\\appdata\\roaming\\python\\python39\\site-packages (from pennylane) (1.13.0)\n",
      "Requirement already satisfied: typing-extensions in c:\\users\\dpope\\appdata\\roaming\\python\\python39\\site-packages (from pennylane) (4.4.0)\n",
      "Requirement already satisfied: autograd in c:\\users\\dpope\\appdata\\roaming\\python\\python39\\site-packages (from pennylane) (1.4)\n",
      "Requirement already satisfied: appdirs in c:\\programdata\\anaconda3\\lib\\site-packages (from pennylane) (1.4.4)\n",
      "Requirement already satisfied: semantic-version>=2.7 in c:\\users\\dpope\\appdata\\roaming\\python\\python39\\site-packages (from pennylane) (2.10.0)\n",
      "Requirement already satisfied: autoray>=0.6.1 in c:\\users\\dpope\\appdata\\roaming\\python\\python39\\site-packages (from pennylane) (0.6.3)\n",
      "Requirement already satisfied: cachetools in c:\\programdata\\anaconda3\\lib\\site-packages (from pennylane) (4.2.2)\n",
      "Requirement already satisfied: pennylane-lightning>=0.36 in c:\\users\\dpope\\appdata\\roaming\\python\\python39\\site-packages (from pennylane) (0.36.0)\n",
      "Requirement already satisfied: requests in c:\\users\\dpope\\appdata\\roaming\\python\\python39\\site-packages (from pennylane) (2.31.0)\n",
      "Requirement already satisfied: numpy<2.0 in c:\\users\\dpope\\appdata\\roaming\\python\\python39\\site-packages (from pennylane) (1.26.4)\n",
      "Requirement already satisfied: toml in c:\\programdata\\anaconda3\\lib\\site-packages (from pennylane) (0.10.2)\n",
      "Requirement already satisfied: networkx in c:\\users\\dpope\\appdata\\roaming\\python\\python39\\site-packages (from pennylane) (3.1)\n",
      "Requirement already satisfied: future>=0.15.2 in c:\\programdata\\anaconda3\\lib\\site-packages (from autograd->pennylane) (0.18.2)\n",
      "Requirement already satisfied: certifi>=2017.4.17 in c:\\programdata\\anaconda3\\lib\\site-packages (from requests->pennylane) (2021.10.8)\n",
      "Requirement already satisfied: charset-normalizer<4,>=2 in c:\\programdata\\anaconda3\\lib\\site-packages (from requests->pennylane) (2.0.4)\n",
      "Requirement already satisfied: urllib3<3,>=1.21.1 in c:\\users\\dpope\\appdata\\roaming\\python\\python39\\site-packages (from requests->pennylane) (2.1.0)\n",
      "Requirement already satisfied: idna<4,>=2.5 in c:\\programdata\\anaconda3\\lib\\site-packages (from requests->pennylane) (3.3)\n"
     ]
    }
   ],
   "source": [
    "!pip install pennylane"
   ]
  },
  {
   "cell_type": "code",
   "execution_count": 2,
   "metadata": {
    "colab": {
     "base_uri": "https://localhost:8080/"
    },
    "executionInfo": {
     "elapsed": 3212,
     "status": "ok",
     "timestamp": 1714411197874,
     "user": {
      "displayName": "Damian Pope",
      "userId": "01798205623999937425"
     },
     "user_tz": 240
    },
    "id": "0zcJTwuVYkcF",
    "outputId": "c50ece95-b874-42df-a58c-90d200e6c94e"
   },
   "outputs": [
    {
     "name": "stdout",
     "output_type": "stream",
     "text": [
      "H_Ising=-1 * (Z(0) @ Z(1)) + -1 * (Z(1) @ Z(2)) + -1 * Z(0) + 1 * Z(1) + -1 * Z(2)\n",
      "H_s=1 * X(0) + 1 * X(1) + 1 * X(2)\n"
     ]
    }
   ],
   "source": [
    "\"\"\"\n",
    "PennyLane code for a simple example of QAOA\n",
    "https://pennylane.ai/\n",
    "\"\"\"\n",
    "\n",
    "import pennylane as qml\n",
    "from pennylane import qaoa\n",
    "from pennylane import numpy as np\n",
    "from matplotlib import pyplot as plt\n",
    "\n",
    "h_1 = 1\n",
    "h_2 = -1\n",
    "h_3 = 1\n",
    "\n",
    "#\n",
    "#Create Hamiltonian for the quantum Ising model.\n",
    "#It's based on the classical Hamiltonian: H = - z_1 z_2\n",
    "#\n",
    "H_Ising = qml.Hamiltonian(\n",
    "    [-1,-1,-h_1,-h_2,-h_3],\n",
    "    [qml.PauliZ(0) @ qml.PauliZ(1),qml.PauliZ(1) @ qml.PauliZ(2),qml.PauliZ(0), qml.PauliZ(1),qml.PauliZ(2)]\n",
    ")\n",
    "print(f\"H_Ising={H_Ising}\")\n",
    "\n",
    "#Create the \"simple\" Hamilonian (H_s) that we start in the ground state of\n",
    "H_s = qml.Hamiltonian(\n",
    "    [1,1,1],\n",
    "    [qml.PauliX(0), qml.PauliX(1),qml.PauliX(2)])\n",
    "\n",
    "print(f\"H_s={H_s}\")"
   ]
  },
  {
   "cell_type": "markdown",
   "metadata": {
    "id": "frGIIixfu6f7"
   },
   "source": [
    "Implement QAOA with H_Ising and H_s"
   ]
  },
  {
   "cell_type": "code",
   "execution_count": 3,
   "metadata": {
    "executionInfo": {
     "elapsed": 9,
     "status": "ok",
     "timestamp": 1714411197874,
     "user": {
      "displayName": "Damian Pope",
      "userId": "01798205623999937425"
     },
     "user_tz": 240
    },
    "id": "cTdaH9qxvCad"
   },
   "outputs": [],
   "source": [
    "#Define the basic combination of implementing H_Ising and H_s that we will repeat a number of times (M times)\n",
    "def qaoa_layer(gamma, alpha):\n",
    "    qaoa.cost_layer(gamma, H_Ising)\n",
    "    qaoa.mixer_layer(alpha, H_s)\n",
    "\n",
    "\n",
    "#wires is the set of all the qubits.\n",
    "#It's just [0,1] for qubit 0 and qubit 1.\n",
    "wires = range(3)\n",
    "\n",
    "#M is the number of times we repeat the combination (or layer) of H_s & H_Ising\n",
    "P = 3\n",
    "\n",
    "#define the circuit that implements QAOA\n",
    "def circuit(params, **kwargs):\n",
    "\n",
    "    #First, initialize the state to the ground state of H_s\n",
    "    for w in wires:\n",
    "        qml.PauliX(wires=w)\n",
    "        qml.Hadamard(wires=w)\n",
    "\n",
    "    #Implement H_s and H_Ising M times\n",
    "    qml.layer(qaoa_layer, P, params[0], params[1])"
   ]
  },
  {
   "cell_type": "markdown",
   "metadata": {
    "id": "3hgzDhG2xwLb"
   },
   "source": [
    "Create the classical optimization procedure using gradient descent."
   ]
  },
  {
   "cell_type": "code",
   "execution_count": 4,
   "metadata": {
    "executionInfo": {
     "elapsed": 8,
     "status": "ok",
     "timestamp": 1714411197875,
     "user": {
      "displayName": "Damian Pope",
      "userId": "01798205623999937425"
     },
     "user_tz": 240
    },
    "id": "HvKjGRsHxsGa"
   },
   "outputs": [],
   "source": [
    "dev = qml.device(\"default.qubit\", wires=wires)\n",
    "\n",
    "@qml.qnode(dev)\n",
    "def cost_function(params):\n",
    "    circuit(params)\n",
    "    return qml.expval(H_Ising)\n",
    "\n",
    "optimizer = qml.GradientDescentOptimizer()\n",
    "steps = 10\n",
    "\n",
    "params = np.array([[0.5,0.5,0.5], [0.5,0.5,0.5]], requires_grad=True)"
   ]
  },
  {
   "cell_type": "markdown",
   "metadata": {
    "id": "udzKD3jPyIif"
   },
   "source": [
    "Run the QAOA algorithm and determine the optimal parameters."
   ]
  },
  {
   "cell_type": "code",
   "execution_count": 5,
   "metadata": {
    "colab": {
     "base_uri": "https://localhost:8080/"
    },
    "executionInfo": {
     "elapsed": 921,
     "status": "ok",
     "timestamp": 1714411198789,
     "user": {
      "displayName": "Damian Pope",
      "userId": "01798205623999937425"
     },
     "user_tz": 240
    },
    "id": "SqaWnOeMyLUv",
    "outputId": "b9c0e737-a5ca-4c38-cb24-c6b2d253510e"
   },
   "outputs": [
    {
     "name": "stdout",
     "output_type": "stream",
     "text": [
      "Optimal Parameters=[[0.37693888 0.66553694 0.65460785]\n",
      " [0.49831115 0.51244042 0.44308106]]\n"
     ]
    }
   ],
   "source": [
    "for i in range(steps):\n",
    "    params = optimizer.step(cost_function, params)\n",
    "\n",
    "print(f\"Optimal Parameters={params}\")"
   ]
  },
  {
   "cell_type": "markdown",
   "metadata": {
    "id": "W7812ZBkydSy"
   },
   "source": [
    "Simulate running the algorithms a number of times and sampling the probability distribution of outcomes for the final optimzed values of the 2M time parameters."
   ]
  },
  {
   "cell_type": "code",
   "execution_count": 6,
   "metadata": {
    "colab": {
     "base_uri": "https://localhost:8080/",
     "height": 472
    },
    "executionInfo": {
     "elapsed": 374,
     "status": "ok",
     "timestamp": 1714411199156,
     "user": {
      "displayName": "Damian Pope",
      "userId": "01798205623999937425"
     },
     "user_tz": 240
    },
    "id": "82d_lDWxyrfY",
    "outputId": "7c9ae409-515f-4e85-f369-173f6f635664"
   },
   "outputs": [
    {
     "data": {
      "image/png": "[encoded data removed]",
      "text/plain": [
       "<Figure size 432x288 with 1 Axes>"
      ]
     },
     "metadata": {
      "needs_background": "light"
     },
     "output_type": "display_data"
    }
   ],
   "source": [
    "@qml.qnode(dev)\n",
    "def probability_circuit(gamma, alpha):\n",
    "    circuit([gamma, alpha])\n",
    "    return qml.probs(wires=wires)\n",
    "\n",
    "probs = probability_circuit(params[0], params[1])\n",
    "\n",
    "#Display a bar graph showing the probability of measuring each bitstring\n",
    "plt.bar(['000','001','010','011','100','101','110','111'], probs)\n",
    "plt.title(f\"Probability distribution of outcomes for  P={P} and {steps} iterations of gradient descent optimization\")\n",
    "plt.ylabel(\"Probability\")\n",
    "plt.xlabel(\"Measurement outcome in computational basis\")\n",
    "plt.show()"
   ]
  }
 ],
 "metadata": {
  "colab": {
   "provenance": []
  },
  "kernelspec": {
   "display_name": "Python 3 (ipykernel)",
   "language": "python",
   "name": "python3"
  },
  "language_info": {
   "codemirror_mode": {
    "name": "ipython",
    "version": 3
   },
   "file_extension": ".py",
   "mimetype": "text/x-python",
   "name": "python",
   "nbconvert_exporter": "python",
   "pygments_lexer": "ipython3",
   "version": "3.9.12"
  }
 },
 "nbformat": 4,
 "nbformat_minor": 1
}
