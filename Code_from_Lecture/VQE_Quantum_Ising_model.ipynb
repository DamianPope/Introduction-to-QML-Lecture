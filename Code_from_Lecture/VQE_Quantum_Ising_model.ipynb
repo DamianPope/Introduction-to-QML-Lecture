{
 "cells": [
  {
   "cell_type": "markdown",
   "metadata": {
    "id": "-ERGCm9AAICc"
   },
   "source": [
    "<a id='quantum_Ising_file'></a>\n",
    "Using Variational Quantum Eigensolver to find the ground state of the 1D quantum Ising model.\n",
    "\n",
    "_________________________________________________________\n",
    "\n",
    "By Damian Pope, PhD\n",
    "\n",
    "Introduction to Quantum Machine Learning lecture"
   ]
  },
  {
   "cell_type": "code",
   "execution_count": 1,
   "metadata": {
    "colab": {
     "base_uri": "https://localhost:8080/"
    },
    "executionInfo": {
     "elapsed": 7004,
     "status": "ok",
     "timestamp": 1714429251363,
     "user": {
      "displayName": "Damian Pope",
      "userId": "01798205623999937425"
     },
     "user_tz": 240
    },
    "id": "SKkOAG55AUFG",
    "outputId": "3c4068d5-c04f-462f-d0ec-6f51f2b44a7c"
   },
   "outputs": [
    {
     "name": "stdout",
     "output_type": "stream",
     "text": [
      "Defaulting to user installation because normal site-packages is not writeable\n",
      "Requirement already satisfied: pennylane in c:\\users\\dpope\\appdata\\roaming\\python\\python39\\site-packages (0.36.0)\n",
      "Requirement already satisfied: typing-extensions in c:\\users\\dpope\\appdata\\roaming\\python\\python39\\site-packages (from pennylane) (4.4.0)\n",
      "Requirement already satisfied: autoray>=0.6.1 in c:\\users\\dpope\\appdata\\roaming\\python\\python39\\site-packages (from pennylane) (0.6.3)\n",
      "Requirement already satisfied: numpy<2.0 in c:\\users\\dpope\\appdata\\roaming\\python\\python39\\site-packages (from pennylane) (1.26.4)\n",
      "Requirement already satisfied: rustworkx in c:\\users\\dpope\\appdata\\roaming\\python\\python39\\site-packages (from pennylane) (0.13.2)\n",
      "Requirement already satisfied: cachetools in c:\\programdata\\anaconda3\\lib\\site-packages (from pennylane) (4.2.2)\n",
      "Requirement already satisfied: scipy in c:\\users\\dpope\\appdata\\roaming\\python\\python39\\site-packages (from pennylane) (1.13.0)\n",
      "Requirement already satisfied: toml in c:\\programdata\\anaconda3\\lib\\site-packages (from pennylane) (0.10.2)\n",
      "Requirement already satisfied: pennylane-lightning>=0.36 in c:\\users\\dpope\\appdata\\roaming\\python\\python39\\site-packages (from pennylane) (0.36.0)\n",
      "Requirement already satisfied: requests in c:\\users\\dpope\\appdata\\roaming\\python\\python39\\site-packages (from pennylane) (2.31.0)\n",
      "Requirement already satisfied: networkx in c:\\users\\dpope\\appdata\\roaming\\python\\python39\\site-packages (from pennylane) (3.1)\n",
      "Requirement already satisfied: appdirs in c:\\programdata\\anaconda3\\lib\\site-packages (from pennylane) (1.4.4)\n",
      "Requirement already satisfied: semantic-version>=2.7 in c:\\users\\dpope\\appdata\\roaming\\python\\python39\\site-packages (from pennylane) (2.10.0)\n",
      "Requirement already satisfied: autograd in c:\\users\\dpope\\appdata\\roaming\\python\\python39\\site-packages (from pennylane) (1.4)\n",
      "Requirement already satisfied: future>=0.15.2 in c:\\programdata\\anaconda3\\lib\\site-packages (from autograd->pennylane) (0.18.2)\n",
      "Requirement already satisfied: certifi>=2017.4.17 in c:\\programdata\\anaconda3\\lib\\site-packages (from requests->pennylane) (2021.10.8)\n",
      "Requirement already satisfied: idna<4,>=2.5 in c:\\programdata\\anaconda3\\lib\\site-packages (from requests->pennylane) (3.3)\n",
      "Requirement already satisfied: charset-normalizer<4,>=2 in c:\\programdata\\anaconda3\\lib\\site-packages (from requests->pennylane) (2.0.4)\n",
      "Requirement already satisfied: urllib3<3,>=1.21.1 in c:\\users\\dpope\\appdata\\roaming\\python\\python39\\site-packages (from requests->pennylane) (2.1.0)\n"
     ]
    }
   ],
   "source": [
    "!pip install pennylane"
   ]
  },
  {
   "cell_type": "code",
   "execution_count": 2,
   "metadata": {
    "colab": {
     "base_uri": "https://localhost:8080/",
     "height": 1000
    },
    "executionInfo": {
     "elapsed": 30739,
     "status": "ok",
     "timestamp": 1714429282093,
     "user": {
      "displayName": "Damian Pope",
      "userId": "01798205623999937425"
     },
     "user_tz": 240
    },
    "id": "wd5vz4HhAhLb",
    "outputId": "1df61d7a-a7ab-417a-b9bc-5e35a7d0b96b"
   },
   "outputs": [
    {
     "name": "stdout",
     "output_type": "stream",
     "text": [
      "params=[0.07630829 0.77991879 0.43840923 0.72346518 0.97798951 0.53849587\n",
      " 0.50112046 0.07205113 0.26843898 0.4998825  0.67923    0.80373904\n",
      " 0.38094113 0.06593635]\n",
      "Step = 0,  Energy = -5.2587\n",
      "Step = 5,  Energy = -21.6975\n",
      "Step = 10,  Energy = -24.6496\n",
      "Step = 15,  Energy = -25.0249\n",
      "Step = 20,  Energy = -27.6629\n",
      "Step = 25,  Energy = -26.2091\n",
      "Step = 30,  Energy = -27.5217\n",
      "Step = 35,  Energy = -29.6084\n",
      "Step = 40,  Energy = -28.7303\n",
      "Step = 45,  Energy = -26.7312\n",
      "Step = 50,  Energy = -28.4568\n",
      "Step = 55,  Energy = -28.7459\n",
      "Step = 60,  Energy = -27.1093\n",
      "Step = 65,  Energy = -29.2056\n",
      "Step = 70,  Energy = -28.6299\n",
      "Step = 75,  Energy = -28.5350\n",
      "Step = 80,  Energy = -29.1978\n",
      "Step = 85,  Energy = -28.5764\n",
      "Step = 90,  Energy = -28.4137\n",
      "Step = 95,  Energy = -28.8517\n",
      "Step = 100,  Energy = -28.7360\n",
      "Step = 105,  Energy = -28.7771\n",
      "Step = 110,  Energy = -28.7572\n",
      "Step = 115,  Energy = -28.9015\n",
      "Step = 120,  Energy = -28.6705\n",
      "Step = 125,  Energy = -28.9252\n",
      "Step = 130,  Energy = -28.7607\n",
      "Step = 135,  Energy = -28.7553\n",
      "Step = 140,  Energy = -28.8316\n",
      "Step = 145,  Energy = -28.8183\n",
      "Step = 150,  Energy = -28.8247\n",
      "Step = 155,  Energy = -28.7955\n",
      "Step = 160,  Energy = -28.8144\n",
      "Step = 165,  Energy = -28.8188\n",
      "Step = 170,  Energy = -28.8613\n",
      "Step = 175,  Energy = -28.7925\n",
      "Step = 180,  Energy = -28.8672\n",
      "Step = 185,  Energy = -28.8024\n",
      "Step = 190,  Energy = -28.8760\n",
      "Step = 195,  Energy = -28.8053\n",
      "Step = 200,  Energy = -28.8652\n",
      "Step = 205,  Energy = -28.8298\n",
      "Step = 210,  Energy = -28.8674\n",
      "Step = 215,  Energy = -28.8166\n",
      "Step = 220,  Energy = -28.8728\n",
      "Step = 225,  Energy = -28.8339\n",
      "Step = 230,  Energy = -28.8640\n",
      "Step = 235,  Energy = -28.8486\n",
      "Step = 240,  Energy = -28.8418\n",
      "Step = 245,  Energy = -28.8553\n",
      "Step = 250,  Energy = -28.8606\n",
      "Step = 255,  Energy = -28.8694\n",
      "Step = 260,  Energy = -28.8282\n",
      "Step = 265,  Energy = -28.8817\n",
      "Step = 270,  Energy = -28.8488\n",
      "Step = 275,  Energy = -28.8856\n",
      "Step = 280,  Energy = -28.8447\n",
      "Step = 285,  Energy = -28.8868\n",
      "Step = 290,  Energy = -28.8576\n",
      "Step = 295,  Energy = -28.8834\n",
      "\n",
      "Final value of the ground-state energy = -28.8866\n",
      "\n",
      "Optimal values of the circuit parameters = [-1.05645877e-03 -1.57078364e+00  1.38498916e+00 -1.57402050e+00\n",
      "  1.54495870e+00 -4.54615053e-01 -2.23137430e-02  2.01891710e-02\n",
      "  1.58012331e+00  1.73720319e+00  1.64893435e+00  1.43486252e+00\n",
      "  6.40369492e-01  1.45652169e-01]\n"
     ]
    },
    {
     "data": {
      "text/plain": [
       "(array([-40., -30., -20., -10.,   0.,  10.,  20.]),\n",
       " [Text(0, -40.0, '−40'),\n",
       "  Text(0, -30.0, '−30'),\n",
       "  Text(0, -20.0, '−20'),\n",
       "  Text(0, -10.0, '−10'),\n",
       "  Text(0, 0.0, '0'),\n",
       "  Text(0, 10.0, '10'),\n",
       "  Text(0, 20.0, '20')])"
      ]
     },
     "execution_count": 2,
     "metadata": {},
     "output_type": "execute_result"
    },
    {
     "data": {
      "image/png": "[encoded data removed]",
      "text/plain": [
       "<Figure size 864x360 with 1 Axes>"
      ]
     },
     "metadata": {
      "needs_background": "light"
     },
     "output_type": "display_data"
    }
   ],
   "source": [
    "import pennylane as qml\n",
    "from pennylane import numpy as np\n",
    "\n",
    "N = 3\n",
    "\n",
    "dev = qml.device(\"default.qubit\",wires=range(N))\n",
    "\n",
    "J = 1\n",
    "h_x = -10\n",
    "h_z = 0\n",
    "\n",
    "wires = range(N)\n",
    "\n",
    "def createHamiltonian(N,J,h_x,h_z):\n",
    "\n",
    "  coeffs = []\n",
    "  terms_list = []\n",
    "\n",
    "  for i in range(N-1):\n",
    "    coeffs.append(-J)\n",
    "    terms_list.append(qml.PauliZ(i) @ qml.PauliZ(i+1))\n",
    "\n",
    "  for i in range(N):\n",
    "    coeffs.append(-h_x)\n",
    "    terms_list.append(qml.PauliX(i))\n",
    "\n",
    "    coeffs.append(-h_z)\n",
    "    terms_list.append(qml.PauliZ(i))\n",
    "\n",
    "\n",
    "\n",
    "  H_Ising = qml.Hamiltonian(coeffs,terms_list)\n",
    "  return H_Ising\n",
    "\n",
    "\n",
    "H = createHamiltonian(N,J,h_x,h_z)\n",
    "\n",
    "\n",
    "np.random.seed(7)\n",
    "params = np.random.rand(2**(N+1) - 2,requires_grad = True)\n",
    "\n",
    "print(f\"params={params}\")\n",
    "\n",
    "@qml.qnode(dev)\n",
    "def circuit(params, wires):\n",
    "\n",
    "    #https://docs.pennylane.ai/en/stable/code/api/pennylane.ArbitraryStatePreparation.html\n",
    "    qml.ArbitraryStatePreparation(params, wires=wires)\n",
    "\n",
    "\n",
    "\n",
    "\n",
    "    return qml.expval(H)\n",
    "\n",
    "\n",
    "##############################################################################\n",
    "# We can now define our error function simply as the expected value calculated above:\n",
    "\n",
    "\n",
    "def cost_fn(params):\n",
    "    return circuit(params, wires=wires)\n",
    "\n",
    "\n",
    "\n",
    "max_iterations = 300\n",
    "conv_tol = 1e-04\n",
    "\n",
    "\n",
    "opt = qml.GradientDescentOptimizer(stepsize=0.1)\n",
    "\n",
    "\n",
    "\n",
    "\n",
    "# store the initial value of the energy\n",
    "energy = [cost_fn(params)]\n",
    "\n",
    "\n",
    "\n",
    "for n in range(max_iterations):\n",
    "    params,previous_energy = opt.step_and_cost(cost_fn,params)\n",
    "    energy.append(cost_fn(params))\n",
    "\n",
    "    conv = np.abs(energy[-1] - energy[-2])\n",
    "\n",
    "    if n % 5 == 0:\n",
    "        print(f\"Step = {n},  Energy = {energy[-1]:.4f}\")\n",
    "\n",
    "    if conv <= conv_tol:\n",
    "        break\n",
    "\n",
    "print(\"\\n\" f\"Final value of the ground-state energy = {energy[-1]:.4f}\")\n",
    "print(\"\\n\" f\"Optimal values of the circuit parameters = {params}\")\n",
    "\n",
    "import matplotlib.pyplot as plt\n",
    "\n",
    "fig = plt.figure()\n",
    "fig.set_figheight(5)\n",
    "fig.set_figwidth(12)\n",
    "\n",
    "# Add energy plot on column 1\n",
    "ax1 = fig.add_subplot(121)\n",
    "ax1.plot(range(n + 2), energy, \"go\", ls=\"dashed\")\n",
    "ax1.set_xlabel(\"Optimization step\", fontsize=13)\n",
    "ax1.set_ylabel(\"Energy\", fontsize=13)\n",
    "ax1.set_title(\"Ground State Energy in 1D Quantum Ising model versus number of VQE iterations\")\n",
    "plt.xticks(fontsize=12)\n",
    "plt.yticks(fontsize=12)"
   ]
  },
  {
   "cell_type": "markdown",
   "metadata": {
    "id": "x4mCqdJO_Eoj"
   },
   "source": [
    "Condensed matter physicists are often interested in something called the magnetization observable: $$M = \\left| \\frac{1}{N} \\Sigma_i Z_i \\right| $$\n",
    "\n",
    "It characterizes the net magnetic moment of the spins.\n",
    "\n",
    "Calculate the magnetization of the ground state by running the code in the next cell."
   ]
  },
  {
   "cell_type": "code",
   "execution_count": 3,
   "metadata": {
    "colab": {
     "base_uri": "https://localhost:8080/",
     "height": 52
    },
    "executionInfo": {
     "elapsed": 18,
     "status": "ok",
     "timestamp": 1714429282094,
     "user": {
      "displayName": "Damian Pope",
      "userId": "01798205623999937425"
     },
     "user_tz": 240
    },
    "id": "reGkfQHs_sSJ",
    "outputId": "ff501809-a9e0-4def-da36-9d70422e2619"
   },
   "outputs": [
    {
     "data": {
      "text/plain": [
       "'\\n@qml.qnode(dev)\\ndef circuit2(params):\\n  qml.ArbitraryStatePreparation(params, wires=wires)\\n\\n  return [qml.expval(qml.PauliZ(wires=i)) for i in wires]\\n\\nZ_av_list = circuit2(params)\\n\\nsum = 0\\n\\nfor i in range(N):\\n  sum += float(Z_av_list[i])\\n\\n\\nprint(\"Magnetization = \", np.abs(sum/N))\\n'"
      ]
     },
     "execution_count": 3,
     "metadata": {},
     "output_type": "execute_result"
    }
   ],
   "source": [
    "'''\n",
    "@qml.qnode(dev)\n",
    "def circuit2(params):\n",
    "  qml.ArbitraryStatePreparation(params, wires=wires)\n",
    "\n",
    "  return [qml.expval(qml.PauliZ(wires=i)) for i in wires]\n",
    "\n",
    "Z_av_list = circuit2(params)\n",
    "\n",
    "sum = 0\n",
    "\n",
    "for i in range(N):\n",
    "  sum += float(Z_av_list[i])\n",
    "\n",
    "\n",
    "print(\"Magnetization = \", np.abs(sum/N))\n",
    "'''"
   ]
  }
 ],
 "metadata": {
  "colab": {
   "provenance": [
    {
     "file_id": "1I_rq1ubhUamSC2k3JeIl0DJNtEAEUpjK",
     "timestamp": 1713915164315
    }
   ]
  },
  "kernelspec": {
   "display_name": "Python 3 (ipykernel)",
   "language": "python",
   "name": "python3"
  },
  "language_info": {
   "codemirror_mode": {
    "name": "ipython",
    "version": 3
   },
   "file_extension": ".py",
   "mimetype": "text/x-python",
   "name": "python",
   "nbconvert_exporter": "python",
   "pygments_lexer": "ipython3",
   "version": "3.9.12"
  }
 },
 "nbformat": 4,
 "nbformat_minor": 1
}
