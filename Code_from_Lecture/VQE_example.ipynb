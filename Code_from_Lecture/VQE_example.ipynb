{
 "cells": [
  {
   "cell_type": "markdown",
   "metadata": {
    "id": "PM-ECwTVYWaO"
   },
   "source": [
    "<a id='section_id3'></a>\n",
    "<B>Simple example of VQE</B>\n",
    "\n",
    "We calculate the ground-state of a qubit in an external magnetic field. The Hamiltonian is $$ H = -B Z $$ where B is the magnetic field strength and Z is the Pauli Z operator.\n",
    "\n",
    "Adapted from https://pennylane.ai/qml/demos/tutorial_qubit_rotation/\n",
    "\n",
    "----------\n",
    "\n",
    "By Damian Pope, PhD\n",
    "\n",
    "<i>Introduction to Quantum  Machine Learning</i> lecture\n",
    "\n",
    "\n"
   ]
  },
  {
   "cell_type": "code",
   "execution_count": 1,
   "metadata": {
    "colab": {
     "base_uri": "https://localhost:8080/"
    },
    "executionInfo": {
     "elapsed": 9040,
     "status": "ok",
     "timestamp": 1714432983941,
     "user": {
      "displayName": "Damian Pope",
      "userId": "01798205623999937425"
     },
     "user_tz": 240
    },
    "id": "35EhPtTJcDmY",
    "outputId": "dea82c67-b9b8-4664-df01-b8ce3fbb67b6"
   },
   "outputs": [
    {
     "name": "stdout",
     "output_type": "stream",
     "text": [
      "Defaulting to user installation because normal site-packages is not writeable\n",
      "Requirement already satisfied: pennylane in c:\\users\\dpope\\appdata\\roaming\\python\\python39\\site-packages (0.36.0)\n",
      "Requirement already satisfied: toml in c:\\programdata\\anaconda3\\lib\\site-packages (from pennylane) (0.10.2)\n",
      "Requirement already satisfied: numpy<2.0 in c:\\users\\dpope\\appdata\\roaming\\python\\python39\\site-packages (from pennylane) (1.26.4)\n",
      "Requirement already satisfied: cachetools in c:\\programdata\\anaconda3\\lib\\site-packages (from pennylane) (4.2.2)\n",
      "Requirement already satisfied: rustworkx in c:\\users\\dpope\\appdata\\roaming\\python\\python39\\site-packages (from pennylane) (0.13.2)\n",
      "Requirement already satisfied: pennylane-lightning>=0.36 in c:\\users\\dpope\\appdata\\roaming\\python\\python39\\site-packages (from pennylane) (0.36.0)\n",
      "Requirement already satisfied: networkx in c:\\users\\dpope\\appdata\\roaming\\python\\python39\\site-packages (from pennylane) (3.1)\n",
      "Requirement already satisfied: semantic-version>=2.7 in c:\\users\\dpope\\appdata\\roaming\\python\\python39\\site-packages (from pennylane) (2.10.0)\n",
      "Requirement already satisfied: autoray>=0.6.1 in c:\\users\\dpope\\appdata\\roaming\\python\\python39\\site-packages (from pennylane) (0.6.3)\n",
      "Requirement already satisfied: typing-extensions in c:\\users\\dpope\\appdata\\roaming\\python\\python39\\site-packages (from pennylane) (4.4.0)\n",
      "Requirement already satisfied: appdirs in c:\\programdata\\anaconda3\\lib\\site-packages (from pennylane) (1.4.4)\n",
      "Requirement already satisfied: autograd in c:\\users\\dpope\\appdata\\roaming\\python\\python39\\site-packages (from pennylane) (1.4)\n",
      "Requirement already satisfied: requests in c:\\users\\dpope\\appdata\\roaming\\python\\python39\\site-packages (from pennylane) (2.31.0)\n",
      "Requirement already satisfied: scipy in c:\\users\\dpope\\appdata\\roaming\\python\\python39\\site-packages (from pennylane) (1.13.0)\n",
      "Requirement already satisfied: future>=0.15.2 in c:\\programdata\\anaconda3\\lib\\site-packages (from autograd->pennylane) (0.18.2)\n",
      "Requirement already satisfied: idna<4,>=2.5 in c:\\programdata\\anaconda3\\lib\\site-packages (from requests->pennylane) (3.3)\n",
      "Requirement already satisfied: charset-normalizer<4,>=2 in c:\\programdata\\anaconda3\\lib\\site-packages (from requests->pennylane) (2.0.4)\n",
      "Requirement already satisfied: urllib3<3,>=1.21.1 in c:\\users\\dpope\\appdata\\roaming\\python\\python39\\site-packages (from requests->pennylane) (2.1.0)\n",
      "Requirement already satisfied: certifi>=2017.4.17 in c:\\programdata\\anaconda3\\lib\\site-packages (from requests->pennylane) (2021.10.8)\n"
     ]
    }
   ],
   "source": [
    "!pip install pennylane"
   ]
  },
  {
   "cell_type": "code",
   "execution_count": 2,
   "metadata": {
    "executionInfo": {
     "elapsed": 36,
     "status": "ok",
     "timestamp": 1714432983942,
     "user": {
      "displayName": "Damian Pope",
      "userId": "01798205623999937425"
     },
     "user_tz": 240
    },
    "id": "0zcJTwuVYkcF"
   },
   "outputs": [],
   "source": [
    "import pennylane as qml\n",
    "from pennylane import numpy as np\n",
    "\n",
    "# importing the required module\n",
    "import matplotlib.pyplot as plt\n",
    "\n",
    "dev = qml.device(\"default.qubit\", wires=1)\n",
    "\n",
    "#magnetic field strength\n",
    "B = 2\n",
    "\n",
    "@qml.qnode(dev)\n",
    "def circuit(theta):\n",
    "    qml.RY(theta, wires=0)\n",
    "    return qml.expval(qml.PauliZ(0))"
   ]
  },
  {
   "cell_type": "markdown",
   "metadata": {
    "id": "frGIIixfu6f7"
   },
   "source": [
    "Set the initial value of the angle theta.\n",
    "\n",
    "Note that as we wish to \"train\" the angle, we need to set **requires_grad=True**"
   ]
  },
  {
   "cell_type": "code",
   "execution_count": 3,
   "metadata": {
    "colab": {
     "base_uri": "https://localhost:8080/"
    },
    "executionInfo": {
     "elapsed": 27,
     "status": "ok",
     "timestamp": 1714432983944,
     "user": {
      "displayName": "Damian Pope",
      "userId": "01798205623999937425"
     },
     "user_tz": 240
    },
    "id": "RK8LVHJlULIV",
    "outputId": "e26c4cfb-7ae5-4d28-b97b-dcad764ca7d3"
   },
   "outputs": [
    {
     "name": "stdout",
     "output_type": "stream",
     "text": [
      "Initial rotation angle: [1.57079633]\n"
     ]
    }
   ],
   "source": [
    "#initialize value of theta\n",
    "theta = np.array([np.pi/2],requires_grad=True)\n",
    "\n",
    "#define a function that returns the energy that we want to minimize\n",
    "def energy(x):\n",
    "    return -B*circuit(x)\n",
    "\n",
    "    if (i + 1) % 5 == 0:\n",
    "        print(f\"i={i}   Energy ={energy(theta)}\")\n",
    "\n",
    "\n",
    "print(\"Initial rotation angle: {}\".format(theta))"
   ]
  },
  {
   "cell_type": "markdown",
   "metadata": {
    "id": "3hgzDhG2xwLb"
   },
   "source": [
    "Create the classical optimization procedure using gradient descent & then run it."
   ]
  },
  {
   "cell_type": "code",
   "execution_count": 4,
   "metadata": {
    "colab": {
     "base_uri": "https://localhost:8080/"
    },
    "executionInfo": {
     "elapsed": 2239,
     "status": "ok",
     "timestamp": 1714432986159,
     "user": {
      "displayName": "Damian Pope",
      "userId": "01798205623999937425"
     },
     "user_tz": 240
    },
    "id": "VLFz_0gIUo7-",
    "outputId": "b73b040e-bc85-4575-df66-151c929bc44e"
   },
   "outputs": [
    {
     "name": "stdout",
     "output_type": "stream",
     "text": [
      "total number of steps= 200\n"
     ]
    }
   ],
   "source": [
    "#initialise the optimizer\n",
    "optimizer = qml.GradientDescentOptimizer(stepsize = 0.02)\n",
    "\n",
    "# set the number of steps\n",
    "steps = 200\n",
    "\n",
    "store_theta=[theta]\n",
    "store_energy=[energy(theta)]\n",
    "\n",
    "tol = 1e-04\n",
    "\n",
    "for i in range(steps):\n",
    "    # update the circuit parameters\n",
    "    theta = optimizer.step(energy,theta)\n",
    "\n",
    "    store_theta.append(theta)\n",
    "    store_energy.append(energy(theta))\n",
    "\n",
    "    conv = np.abs(store_energy[-1] - store_energy[-2] )\n",
    "\n",
    "    if conv <= tol:\n",
    "       print(\"total number of steps=\",steps)\n",
    "       break"
   ]
  },
  {
   "cell_type": "markdown",
   "metadata": {
    "id": "W7812ZBkydSy"
   },
   "source": [
    "Plot the results to see how the energy changes with successive iterations & settles down to the ground state energy. Note that, of course, the final value of theta is approximately equal to Pi. This corresponds to the spin down or |1> state."
   ]
  },
  {
   "cell_type": "code",
   "execution_count": 5,
   "metadata": {
    "colab": {
     "base_uri": "https://localhost:8080/",
     "height": 472
    },
    "executionInfo": {
     "elapsed": 335,
     "status": "ok",
     "timestamp": 1714432986466,
     "user": {
      "displayName": "Damian Pope",
      "userId": "01798205623999937425"
     },
     "user_tz": 240
    },
    "id": "tHbvHXp7T6T8",
    "outputId": "cd9ae9fc-b2c3-4fc9-917c-53e9a4cd8ae1"
   },
   "outputs": [
    {
     "data": {
      "image/png": "[encoded data removed]",
      "text/plain": [
       "<Figure size 432x288 with 1 Axes>"
      ]
     },
     "metadata": {
      "needs_background": "light"
     },
     "output_type": "display_data"
    }
   ],
   "source": [
    "#graph results\n",
    "\n",
    "# plotting the points\n",
    "plt.plot(store_theta, store_energy)\n",
    "\n",
    "# naming the x axis\n",
    "plt.xlabel('theta')\n",
    "# naming the y axis\n",
    "plt.ylabel('Energy')\n",
    "\n",
    "# giving a title to my graph\n",
    "plt.title('Energy versus theta for VQE iterations')\n",
    "\n",
    "# function to show the plot\n",
    "plt.show()"
   ]
  }
 ],
 "metadata": {
  "colab": {
   "provenance": []
  },
  "kernelspec": {
   "display_name": "Python 3 (ipykernel)",
   "language": "python",
   "name": "python3"
  },
  "language_info": {
   "codemirror_mode": {
    "name": "ipython",
    "version": 3
   },
   "file_extension": ".py",
   "mimetype": "text/x-python",
   "name": "python",
   "nbconvert_exporter": "python",
   "pygments_lexer": "ipython3",
   "version": "3.9.12"
  }
 },
 "nbformat": 4,
 "nbformat_minor": 1
}
