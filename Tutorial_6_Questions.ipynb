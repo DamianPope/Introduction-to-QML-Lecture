{
 "cells": [
  {
   "cell_type": "markdown",
   "metadata": {
    "id": "TbJPybzyEIn9"
   },
   "source": [
    "# Tutorial 6: Training quantum variational circuits in PennyLane\n",
    "\n",
    "PSI 2023-2024\n",
    "\n",
    "Machine Learning for Many-Body Physics\n",
    "\n",
    "By Damian Pope, PhD."
   ]
  },
  {
   "cell_type": "markdown",
   "metadata": {
    "id": "uZyZBFfj2n5w"
   },
   "source": [
    "**1.** Look through the sample code for VQE tied to the example from the lecture. The code is located [HERE](Code_from_Lecture/VQE_example.ipynb). Identify which line each of the six steps of VQE mentioned in the lecture occur at."
   ]
  },
  {
   "cell_type": "markdown",
   "metadata": {
    "id": "LlHa1iBJ28hD"
   },
   "source": [
    "**2.** Two important aspects of quantum machine learning are:<br>\n",
    "i. your initial guess for the ground state of the system. Often, this is called the \"ansatz\".<br>\n",
    "ii. how rapidly you change the machine learning parameters. This is called the <i>learning rate</i>.\n",
    "\n",
    "Play around with these two factors by changing i) the initial value of theta and ii) the stepsize parameter and see how this affects the behaviour of the VQE algorithm."
   ]
  },
  {
   "cell_type": "markdown",
   "metadata": {
    "id": "1uOC4iKk33xJ"
   },
   "source": [
    "**3.** In condensed matter physics, we can use VQE to find the ground state of the 1D quantum Ising model.\n",
    "\n",
    "Run the code [HERE](Code_from_Lecture/VQE_Quantum_Ising_model.ipynb#quantum_Ising_file). What does VQE give for the ground-state energy? Does this seems reasonable? Why or why not?"
   ]
  },
  {
   "cell_type": "markdown",
   "metadata": {
    "id": "GtW5Wbhw4gqz"
   },
   "source": [
    "**4.** One observable that condensed matter physicists are interested in is the magnetiziation of a system. It's given by $$M = \\left| \\frac{1}{N} \\Sigma_i Z_i \\right| $$\n",
    "\n",
    "Uncomment the magnetization code in the last cell of the notebook provided in Q3 and run it. What's the value of the magnetization of the ground state?"
   ]
  },
  {
   "cell_type": "markdown",
   "metadata": {
    "id": "017_XNRcWrcp"
   },
   "source": [
    "**5.** Like many other ML algorithms, VQE is <i>not</i> guaranteed to find the ground state. On the notebook provided in Q3, change the seed number \"7\" to \"4\". i.e., change it to: <br> np.random.seed(4)\n",
    "\n",
    "What does value does VQE give for the ground state now? Is there something wrong with the algorithm?"
   ]
  },
  {
   "cell_type": "markdown",
   "metadata": {
    "id": "tW4TzqGpXYMR"
   },
   "source": [
    "**6.** A version of the Ising model that condensed matter physicists are interested is when we have a magnetic field directed along the x axis. This model is called the <i>transverse Ising model</i>. In the code, change the value of $h_x$ to 10. What ground state does VQE give now? Does this result seem reasonable?"
   ]
  },
  {
   "cell_type": "markdown",
   "metadata": {
    "id": "MXr-Qy9Z3qMl"
   },
   "source": [
    "**7.** One of the most popular applications of VQE is the finding the ground state of molecules. Run the code [HERE](Code_from_Lecture/VQE_Quantum_Ground_State_Hydrogen_molecule.ipynb#VQE_H2) to see it applied to finding the ground state of the H<sub>2</sub> hydrogen molecule. Play around with the stepsize parameter and the initial guess for the ground state to see how they affect the algorithm's behaviour."
   ]
  },
  {
   "cell_type": "markdown",
   "metadata": {
    "id": "4vx-g8H1200Y"
   },
   "source": [
    "**8.** Look through the sample code for QAOA [HERE](Classical_Ising_Model_QAOA_example.ipynb#classical_Ising_QAOA_example). Identify which line each of the six steps in QAOA mentioned in the lecture occur at.<br>\n",
    "NOTE: Step 5 is NOT included in the code."
   ]
  },
  {
   "cell_type": "markdown",
   "metadata": {
    "id": "tczCdaKr5WqJ"
   },
   "source": [
    "**9.** Run the code [HERE](Classical_Ising_Model_QAOA_example.ipynb#classical_Ising_QAOA_example) and find the ground state of the N = 3 classical Ising model using QAOA.\n",
    "\n",
    "According to the QAOA code, what is the ground state? What is the ground state energy?\n",
    "\n",
    "Play around with the value of <i>P</i> and the number of classical optimization iterations by varying them. Check how they affect the success of the algorithm.\n",
    "\n"
   ]
  },
  {
   "cell_type": "markdown",
   "metadata": {
    "id": "vk4ADgA5VuW-"
   },
   "source": [
    "<b>10. Optional (Open-ended) - Choose one of the following.</b>\n",
    "\n",
    "<b>A.</b> Expore the 1D quantum Ising model by changing the value of J, the nearest neighbour coupling constant. How does the magnetization of the ground state change as you vary J between -1 and +1?\n",
    "\n",
    "In the vicinity of J = 0, there's a quantum phase change between all the qubits/spins wanting to be in the same state and them wanting to be in the opposite state to their two nearest neighbours.\n",
    "\n",
    "<b>B.</b> Some cosmologists are interested in studying the quantum Ising model with a i) transverse magnetic field ($h_x$ is nonzero) and a ii) longitudinal field ($h_z$ is nonzero). They're interested in it to help model the cosmological phenomena of false vacuum decay.\n",
    "\n",
    "Make $h_z$ and $h_x$ nonzero, play around with various values of them. How does this affects the ground-state energy?\n",
    "\n",
    "<b>C.</b> Find the ground-state of the H<sub>3</sub><sup>+</sup> molecule using VQE. Use the instructions and existing code [HERE](https://github.com/quantotto/qhack2024/tree/main/TensorTundra/400_triple_h). (This was one of the problems in [QHack 2024](https://qhack.ai/online-events/#coding-challenges).)"
   ]
  }
 ],
 "metadata": {
  "colab": {
   "provenance": []
  },
  "kernelspec": {
   "display_name": "Python 3 (ipykernel)",
   "language": "python",
   "name": "python3"
  },
  "language_info": {
   "codemirror_mode": {
    "name": "ipython",
    "version": 3
   },
   "file_extension": ".py",
   "mimetype": "text/x-python",
   "name": "python",
   "nbconvert_exporter": "python",
   "pygments_lexer": "ipython3",
   "version": "3.9.12"
  }
 },
 "nbformat": 4,
 "nbformat_minor": 1
}
